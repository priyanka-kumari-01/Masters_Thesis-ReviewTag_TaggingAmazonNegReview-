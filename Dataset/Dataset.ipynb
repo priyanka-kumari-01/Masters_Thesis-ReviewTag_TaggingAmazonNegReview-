{
  "nbformat": 4,
  "nbformat_minor": 0,
  "metadata": {
    "colab": {
      "provenance": [],
      "include_colab_link": true
    },
    "kernelspec": {
      "name": "python3",
      "display_name": "Python 3"
    },
    "language_info": {
      "name": "python"
    }
  },
  "cells": [
    {
      "cell_type": "markdown",
      "metadata": {
        "id": "view-in-github",
        "colab_type": "text"
      },
      "source": [
        "<a href=\"https://colab.research.google.com/github/priyanka-kumari-01/ReviewTag_TaggingAmazonNegReview/blob/main/Dataset/Dataset.ipynb\" target=\"_parent\"><img src=\"https://colab.research.google.com/assets/colab-badge.svg\" alt=\"Open In Colab\"/></a>"
      ]
    },
    {
      "cell_type": "code",
      "execution_count": null,
      "metadata": {
        "id": "JeqMd7oUFEb5"
      },
      "outputs": [],
      "source": [
        "import urllib.request\n",
        "import ssl\n",
        "\n",
        "url = 'https://datarepo.eng.ucsd.edu/mcauley_group/data/amazon_v2/categoryFiles/Clothing_Shoes_and_Jewelry.json.gz'\n",
        "\n",
        "# Create a context with SSL certificate verification disabled\n",
        "context = ssl.create_default_context()\n",
        "context.check_hostname = False\n",
        "context.verify_mode = ssl.CERT_NONE\n",
        "\n",
        "# Download the file with SSL certificate verification disabled\n",
        "with urllib.request.urlopen(url, context=context) as u, open('Clothing_Shoes_and_Jewelry.json.gz', 'wb') as f:\n",
        "    f.write(u.read())"
      ]
    },
    {
      "cell_type": "code",
      "source": [
        "import os\n",
        "import json\n",
        "import gzip\n",
        "import pandas as pd\n",
        "from urllib.request import urlopen\n",
        "\n",
        "### load the meta data\n",
        "array= []\n",
        "count = 1\n",
        "\n",
        "# Create a JSON file to store the extracted data\n",
        "jsonFile = open(\"/content/Clothing_Shoes_and_Jewelry_Rating_catergory.json\", \"w\")\n",
        "jsonFile.write(\"[\") # Opening bracket to denote a list of JSON objects\n",
        "\n",
        "# Open the gzipped file and extract the required fields\n",
        "with gzip.open('/content/Clothing_Shoes_and_Jewelry.json.gz') as f:\n",
        "    for l in f:   \n",
        "        # Load each line as a JSON object\n",
        "        d = json.loads(l.strip())  \n",
        "\n",
        "        # Check if the required fields are present in the JSON object    \n",
        "        if 'reviewText' in d and 'asin' in d and 'overall' in d and 'reviewerID' in d and 'summary' in d:\n",
        "            et_dict = {\"asin\":  d[\"asin\"], \n",
        "                        \"overall\" : d[\"overall\"],\n",
        "                        \"reviewText\" : d[\"reviewText\"],\n",
        "                        \"reviewerID\" : d[\"reviewerID\"],\n",
        "                        \"summary\" : d[\"summary\"],}\n",
        "            # Append the extracted fields to the array            \n",
        "            array.append(et_dict)\n",
        "            # Convert the dictionary to a JSON string\n",
        "            jsonString = json.dumps(et_dict)+\",\\n\"\n",
        "            # Write the JSON string to the file\n",
        "            jsonFile.write(jsonString)\n",
        "\n",
        "# Closing bracket to denote the end of the list of JSON objects\n",
        "jsonFile.write(\"]\")\n",
        "# Close the JSON file\n",
        "jsonFile.close()"
      ],
      "metadata": {
        "id": "nHXkZiCzit3u"
      },
      "execution_count": null,
      "outputs": []
    },
    {
      "cell_type": "code",
      "source": [],
      "metadata": {
        "id": "89oNtREtj1w2"
      },
      "execution_count": null,
      "outputs": []
    }
  ]
}